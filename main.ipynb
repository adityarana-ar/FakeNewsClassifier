{
 "cells": [
  {
   "cell_type": "markdown",
   "metadata": {},
   "source": [
    "### Setup\n",
    "Importing necessary libraries"
   ]
  },
  {
   "cell_type": "code",
   "execution_count": 19,
   "metadata": {},
   "outputs": [],
   "source": [
    "import pandas as pd\n",
    "from sklearn.feature_extraction.text import TfidfVectorizer\n",
    "from sklearn.linear_model import LogisticRegression\n",
    "from sklearn.metrics import accuracy_score, classification_report"
   ]
  },
  {
   "cell_type": "markdown",
   "metadata": {},
   "source": [
    "## Splitting data for Test/Train\n",
    "Splitting data into 1000 train "
   ]
  },
  {
   "cell_type": "code",
   "execution_count": 13,
   "metadata": {},
   "outputs": [
    {
     "name": "stdout",
     "output_type": "stream",
     "text": [
      "Train shape: (700, 2)\n",
      "Test shape: (300, 2)\n",
      "\n",
      "Train data: \n",
      "                                                   Text label\n",
      "1574   Trump’s ‘Major Meeting’ On Veterans Affairs N...  Fake\n",
      "2955   Arizona GOP Poised To Ban Social Justice Clas...  Fake\n",
      "4744  Trump to address Senate Republicans on Tuesday...  Real\n",
      "8847  Chicago mayor unveils 'gimmick-free' budget fo...  Real\n",
      "3949   Chuck Schumer: Republicans Have ‘Real Problem...  Fake\n",
      "\n",
      "Test data: \n",
      "                                                   Text label\n",
      "122    Pastor Decides Straight Couple Can’t Even SUP...  Fake\n",
      "6398  Trump arrives in Philippines for Asian leaders...  Real\n",
      "145    Hawaii Attorney General HUMILIATES Jeff Sessi...  Fake\n",
      "6972   Member Of Trump Team Resigns In Disgrace To S...  Fake\n",
      "3135   Racists DISGUSTINGLY Attack And Blame Preside...  Fake\n"
     ]
    }
   ],
   "source": [
    "num_trn, num_tst = 700, 300\n",
    "\n",
    "data = pd.read_csv(f\"fake_and_real_news.csv\")\n",
    "data.dropna(inplace=True)\n",
    "\n",
    "\n",
    "# Separating data from main dataset\n",
    "train = data.sample(n=num_trn)\n",
    "test = data.sample(n=num_tst)\n",
    "\n",
    "# Printing the data\n",
    "print(f\"Train shape: {train.shape}\")\n",
    "print(f\"Test shape: {test.shape}\\n\")\n",
    "\n",
    "print(f\"Train data: \\n{train.head()}\\n\")\n",
    "print(f\"Test data: \\n{test.head()}\")"
   ]
  },
  {
   "cell_type": "markdown",
   "metadata": {},
   "source": [
    "### Separating X and Y values from data"
   ]
  },
  {
   "cell_type": "code",
   "execution_count": 17,
   "metadata": {},
   "outputs": [
    {
     "name": "stdout",
     "output_type": "stream",
     "text": [
      "x_train: (700,)\n",
      "y_train: (700,)\n",
      "x_test: (300,)\n",
      "y_test: (300,)\n",
      "x_train: 1574     Trump’s ‘Major Meeting’ On Veterans Affairs N...\n",
      "2955     Arizona GOP Poised To Ban Social Justice Clas...\n",
      "4744    Trump to address Senate Republicans on Tuesday...\n",
      "8847    Chicago mayor unveils 'gimmick-free' budget fo...\n",
      "3949     Chuck Schumer: Republicans Have ‘Real Problem...\n",
      "Name: Text, dtype: object\n",
      "y_train: 1574    Fake\n",
      "2955    Fake\n",
      "4744    Real\n",
      "8847    Real\n",
      "3949    Fake\n",
      "Name: label, dtype: object\n",
      "x_test: 122      Pastor Decides Straight Couple Can’t Even SUP...\n",
      "6398    Trump arrives in Philippines for Asian leaders...\n",
      "145      Hawaii Attorney General HUMILIATES Jeff Sessi...\n",
      "6972     Member Of Trump Team Resigns In Disgrace To S...\n",
      "3135     Racists DISGUSTINGLY Attack And Blame Preside...\n",
      "Name: Text, dtype: object\n",
      "y_test: 122     Fake\n",
      "6398    Real\n",
      "145     Fake\n",
      "6972    Fake\n",
      "3135    Fake\n",
      "Name: label, dtype: object\n"
     ]
    }
   ],
   "source": [
    "x_train, y_train = train[\"Text\"], train[\"label\"]\n",
    "x_test, y_test = test[\"Text\"], test[\"label\"]\n",
    "\n",
    "# Previewing the data\n",
    "print(f\"x_train: {x_train.shape}\")\n",
    "print(f\"y_train: {y_train.shape}\")\n",
    "print(f\"x_test: {x_test.shape}\")\n",
    "print(f\"y_test: {y_test.shape}\")\n",
    "\n",
    "print(f\"x_train: {x_train.head()}\")\n",
    "print(f\"y_train: {y_train.head()}\")\n",
    "print(f\"x_test: {x_test.head()}\")\n",
    "print(f\"y_test: {y_test.head()}\")\n"
   ]
  },
  {
   "cell_type": "markdown",
   "metadata": {},
   "source": [
    "### Using TF-IDF Vectorizer to convert text into values reflective of their frequency"
   ]
  },
  {
   "cell_type": "code",
   "execution_count": null,
   "metadata": {},
   "outputs": [],
   "source": [
    "vectorizer = TfidfVectorizer(stop_words=\"english\", max_df=0.7)\n",
    "\n",
    "# Fit and transform the training data\n",
    "x_train = vectorizer.fit_transform(x_train)\n",
    "x_test = vectorizer.transform(x_test)"
   ]
  },
  {
   "cell_type": "markdown",
   "metadata": {},
   "source": [
    "#### Initializing and training the model data"
   ]
  },
  {
   "cell_type": "code",
   "execution_count": null,
   "metadata": {},
   "outputs": [],
   "source": [
    "# initialize model\n",
    "model = LogisticRegression()\n",
    "\n",
    "# Fit the model\n",
    "model.fit(x_train, y_train)"
   ]
  },
  {
   "cell_type": "markdown",
   "metadata": {},
   "source": [
    "## Make predictions and evaluate the accuracy of the model"
   ]
  },
  {
   "cell_type": "code",
   "execution_count": null,
   "metadata": {},
   "outputs": [],
   "source": [
    "# Code goes here"
   ]
  }
 ],
 "metadata": {
  "kernelspec": {
   "display_name": "base",
   "language": "python",
   "name": "python3"
  },
  "language_info": {
   "codemirror_mode": {
    "name": "ipython",
    "version": 3
   },
   "file_extension": ".py",
   "mimetype": "text/x-python",
   "name": "python",
   "nbconvert_exporter": "python",
   "pygments_lexer": "ipython3",
   "version": "3.10.13"
  }
 },
 "nbformat": 4,
 "nbformat_minor": 2
}
